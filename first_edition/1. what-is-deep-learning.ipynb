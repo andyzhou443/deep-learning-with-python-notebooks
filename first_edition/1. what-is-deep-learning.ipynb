{
 "cells": [
  {
   "cell_type": "markdown",
   "metadata": {},
   "source": [
    "# Chapter 1- What is Deep Learning\n",
    "In classical programming, we would input both rules and data to get answers. However, in machine learning, we would input data and answers to get rules. Therefore, it is trained rather than explicitly programmed.\n",
    "\n",
    "## 1.1.1 - 1.1.3\n",
    "Machine Learning needs 3 things:\n",
    "Input data points, Examples of expected output, a way to measure whether the algorithm is doing a good job\n",
    "\n",
    "Machine learning transforms input to meaningful output through examples of known input and output. To learn useful **representation** of the input that leads us closer to expected output\n",
    "\n",
    "Example is if we have a graph that classifies data, we can change the coordinates so that everything above 0 in the X axis is one classification while below 0 is another. We can measure how well the algorithm does by percentage of points correctly classified. **Learning** in ML describes automatic search process for better representation."
   ]
  },
  {
   "cell_type": "markdown",
   "metadata": {},
   "source": [
    "## 1.1.4 The \"deep\" in deep learning\n",
    "Deep in deep learning stands for this idea of successive layers of representation. The number of layers is called the **depth**. This is almost always done via **neural networks**. Overall, it is a multistage way to learn data representation.\n",
    "\n",
    "## 1.1.5 Understanding how deep learning works in 3 figures"
   ]
  },
  {
   "cell_type": "markdown",
   "metadata": {},
   "source": []
  }
 ],
 "metadata": {
  "language_info": {
   "name": "python"
  },
  "orig_nbformat": 4
 },
 "nbformat": 4,
 "nbformat_minor": 2
}
